{
 "cells": [
  {
   "cell_type": "markdown",
   "metadata": {},
   "source": [
    "# Capstone Project - The Battle of Neighborhood"
   ]
  },
  {
   "cell_type": "markdown",
   "metadata": {},
   "source": [
    "## Analysis"
   ]
  },
  {
   "cell_type": "markdown",
   "metadata": {},
   "source": [
    "We will import the required libraries for python.\n",
    "\n",
    "pandas and numpy for handling data  \n",
    "request module for using FourSquare API  \n",
    "geopy to get co-ordinates of City of New York  \n",
    "folium to visualize the results on a map"
   ]
  },
  {
   "cell_type": "code",
   "execution_count": null,
   "metadata": {},
   "outputs": [],
   "source": [
    "import pandas as pd\n",
    "import numpy as np\n",
    "pd.set_option('display.max_columns', None)\n",
    "pd.set_option('display.max_rows', None)\n",
    "import requests\n",
    "from bs4 import BeautifulSoup\n",
    "import geocoder\n",
    "import os\n",
    "import folium # map rendering library\n",
    "from geopy.geocoders import Nominatim # convert an address into latitude and longitude values\n",
    "# Matplotlib and associated plotting modules\n",
    "import matplotlib.pyplot as plt\n",
    "import matplotlib.cm as cm\n",
    "import matplotlib.colors as colors\n",
    "%matplotlib inline\n",
    "\n",
    "\n",
    "print('Libraries imported.')"
   ]
  },
  {
   "cell_type": "markdown",
   "metadata": {},
   "source": [
    "Now we define a function to get the geocodes i.e latitude and longitude of a given location using geopy."
   ]
  },
  {
   "cell_type": "code",
   "execution_count": null,
   "metadata": {},
   "outputs": [],
   "source": [
    "def geo_location(address):\n",
    "    # get geo location of address\n",
    "    geolocator = Nominatim(user_agent=\"foursquare_agent\")\n",
    "    location = geolocator.geocode(address)\n",
    "    latitude = location.latitude\n",
    "    longitude = location.longitude\n",
    "    return latitude,longitude"
   ]
  },
  {
   "cell_type": "markdown",
   "metadata": {},
   "source": [
    "We define a function to intract with FourSquare API and get top 100 venues within a radius of 1000 metres for a given latitude and longitude. Below function will return us the venue id, venue name and category."
   ]
  },
  {
   "cell_type": "code",
   "execution_count": null,
   "metadata": {},
   "outputs": [],
   "source": [
    "CLIENT_ID = 'CKUC2TTYGS44UTC0IMOWNUBR1NI2QIT3IT2DC1OZJKVLNYU0'\n",
    "CLIENT_SECRET = 'DIK5SIHSOLKCJ1KX0DTXIQQM3JNP04F0KLDO1JZ3FMEFD0JD'\n",
    "VERSION = '20200608'\n",
    "radius=400\n",
    "LIMIT=100\n",
    "\n",
    "def get_venues(lat,lng):\n",
    "    #url to fetch data from foursquare api\n",
    "    url = 'https://api.foursquare.com/v2/venues/explore?&client_id={}&client_secret={}&v={}&ll={},{}&radius={}&limit={}'.format(\n",
    "            CLIENT_ID, \n",
    "            CLIENT_SECRET, \n",
    "            VERSION, \n",
    "            lat, \n",
    "            lng, \n",
    "            radius, \n",
    "            LIMIT)\n",
    "    # get all the data\n",
    "    results = requests.get(url).json()\n",
    "    venue_data=results['response']\n",
    "    venue_details=[]\n",
    "    for row in venue_data:\n",
    "        try:\n",
    "            venue_id=row['venues']['id']\n",
    "            venue_name=row['venues']['name']\n",
    "            venue_category=row['venues']['categories']['name']\n",
    "            venue_details.append([venue_id,venue_name,venue_category])\n",
    "        except KeyError:\n",
    "            pass\n",
    "    column_names=['ID','Name','Category']\n",
    "    df = pd.DataFrame(venue_details,columns=column_names)\n",
    "    return df"
   ]
  },
  {
   "cell_type": "markdown",
   "metadata": {},
   "source": [
    "Now we will define a function to get venue details like like counts, rating, tip counts for a given venue id. This will be used for ranking."
   ]
  },
  {
   "cell_type": "code",
   "execution_count": null,
   "metadata": {},
   "outputs": [],
   "source": [
    "def get_venue_details(venue_id):\n",
    "    #url to fetch data from foursquare api\n",
    "    url = 'https://api.foursquare.com/v2/venues/{}?&client_id={}&client_secret={}&v={}'.format(\n",
    "            venue_id,\n",
    "            CLIENT_ID, \n",
    "            CLIENT_SECRET, \n",
    "            VERSION)\n",
    "    # get all the data\n",
    "    results = requests.get(url).json()\n",
    "    print(results)\n",
    "    venue_data=results['response']['venues']\n",
    "    venue_details=[]\n",
    "    try:\n",
    "        venue_id=venue_data['id']\n",
    "        venue_name=venue_data['name']\n",
    "        venue_likes=venue_data['likes']['count']\n",
    "        venue_rating=venue_data['rating']\n",
    "        venue_tips=venue_data['tips']['count']\n",
    "        venue_details.append([venue_id,venue_name,venue_likes,venue_rating,venue_tips])\n",
    "    except KeyError:\n",
    "        pass\n",
    "    column_names=['ID','Name','Likes','Rating','Tips']\n",
    "    df = pd.DataFrame(venue_details,columns=column_names)\n",
    "    return df"
   ]
  },
  {
   "cell_type": "markdown",
   "metadata": {},
   "source": [
    "Now we define a funtion to get the new york city data such as Boroughs, Neighborhoods along with their latitude and longitude."
   ]
  },
  {
   "cell_type": "code",
   "execution_count": null,
   "metadata": {},
   "outputs": [],
   "source": [
    "def get_new_york_data():\n",
    "    url='https://cocl.us/new_york_dataset'\n",
    "    resp=requests.get(url).json()\n",
    "    # all data is present in features label\n",
    "    features=resp['features']\n",
    "    # define the dataframe columns\n",
    "    column_names = ['Borough', 'Neighborhood', 'Latitude', 'Longitude'] \n",
    "    # instantiate the dataframe\n",
    "    new_york_data = pd.DataFrame(columns=column_names)\n",
    "    for data in features:\n",
    "        borough = data['properties']['borough'] \n",
    "        neighborhood_name = data['properties']['name']\n",
    "        neighborhood_latlon = data['geometry']['coordinates']\n",
    "        neighborhood_lat = neighborhood_latlon[1]\n",
    "        neighborhood_lon = neighborhood_latlon[0]\n",
    "        new_york_data = new_york_data.append({'Borough': borough,\n",
    "                                          'Neighborhood': neighborhood_name,\n",
    "                                          'Latitude': neighborhood_lat,\n",
    "                                          'Longitude': neighborhood_lon}, ignore_index=True)\n",
    "    return new_york_data"
   ]
  },
  {
   "cell_type": "markdown",
   "metadata": {},
   "source": [
    "We will call the above funtion to get the New York City data."
   ]
  },
  {
   "cell_type": "code",
   "execution_count": null,
   "metadata": {},
   "outputs": [],
   "source": [
    "ny_data = get_new_york_data()\n",
    "ny_data.head()"
   ]
  },
  {
   "cell_type": "code",
   "execution_count": null,
   "metadata": {},
   "outputs": [],
   "source": [
    "ny_data.shape"
   ]
  },
  {
   "cell_type": "markdown",
   "metadata": {},
   "source": [
    "So there are total of 306 different Neighborhoods in New York City."
   ]
  },
  {
   "cell_type": "code",
   "execution_count": null,
   "metadata": {},
   "outputs": [],
   "source": [
    "plt.figure(figsize=(9,5), dpi = 100)\n",
    "# title\n",
    "plt.title('Number of Neighborhoods for each Borough in New York City')\n",
    "#On x-axis\n",
    "plt.xlabel('Borough', fontsize = 15)\n",
    "#On y-axis\n",
    "plt.ylabel('No. of Neighborhoods', fontsize=15)\n",
    "#giving a bar plot\n",
    "ny_data.groupby('Borough')['Neighborhood'].count().plot(kind='bar')\n",
    "#legend\n",
    "plt.legend()\n",
    "#displays the plot\n",
    "plt.show()"
   ]
  },
  {
   "cell_type": "markdown",
   "metadata": {},
   "source": [
    "We see that Queens has highest number of neighborhoods.\n",
    "\n",
    "Now we will collect Vietnamese restaurants for each Neighborhood."
   ]
  },
  {
   "cell_type": "code",
   "execution_count": null,
   "metadata": {},
   "outputs": [],
   "source": [
    "column_names=['Borough', 'Neighborhood', 'ID','Name']\n",
    "vietnamese_rest_ny=pd.DataFrame(columns=column_names)\n",
    "count=1\n",
    "for row in ny_data.values.tolist():\n",
    "    Borough, Neighborhood, Latitude, Longitude=row\n",
    "    venues = get_venues(Latitude,Longitude)\n",
    "    vietnamese_restaurants=venues[venues['Category']=='Vietnamese Restaurant']   \n",
    "    print('(',count,'/',len(ny_data),')','Vietnamese Restaurants in '+Neighborhood+', '+Borough+':'+str(len(vietnamese_restaurants)))\n",
    "    for restaurant_detail in vietnamese_restaurants.values.tolist():\n",
    "        id, name , category=restaurant_detail\n",
    "        vietnamese_rest_ny = vietnamese_rest_ny.append({'Borough': Borough,\n",
    "                                                'Neighborhood': Neighborhood, \n",
    "                                                'ID': id,\n",
    "                                                'Name' : name\n",
    "                                               }, ignore_index=True)\n",
    "    count+=1"
   ]
  },
  {
   "cell_type": "code",
   "execution_count": null,
   "metadata": {},
   "outputs": [],
   "source": [
    "vietnamese_rest_ny.head()"
   ]
  },
  {
   "cell_type": "code",
   "execution_count": null,
   "metadata": {},
   "outputs": [],
   "source": [
    "vietnamese_rest_ny.shape"
   ]
  },
  {
   "cell_type": "markdown",
   "metadata": {},
   "source": [
    "We got 23 Vietnamese restaurants in New York City."
   ]
  },
  {
   "cell_type": "code",
   "execution_count": null,
   "metadata": {},
   "outputs": [],
   "source": [
    "plt.figure(figsize=(9,5), dpi = 100)\n",
    "# title\n",
    "plt.title('Number of Vietnamese Restaurants for each Borough in New York City')\n",
    "#On x-axis\n",
    "plt.xlabel('Borough', fontsize = 15)\n",
    "#On y-axis\n",
    "plt.ylabel('No. of Vietnamese Restaurants', fontsize=15)\n",
    "#giving a bar plot\n",
    "vietnamese_rest_ny.groupby('Borough')['ID'].count().plot(kind='bar')\n",
    "#legend\n",
    "plt.legend()\n",
    "#displays the plot\n",
    "plt.show()"
   ]
  },
  {
   "cell_type": "markdown",
   "metadata": {},
   "source": [
    "We see that Manhattan has the largest number of Vietnamese restaurants."
   ]
  },
  {
   "cell_type": "code",
   "execution_count": null,
   "metadata": {},
   "outputs": [],
   "source": [
    "plt.figure(figsize=(9,5), dpi = 100)\n",
    "# title\n",
    "plt.title('Number of Vietnamese Restaurants for each Neighborhood in New York City')\n",
    "#On x-axis\n",
    "plt.xlabel('Neighborhood', fontsize = 15)\n",
    "#On y-axis\n",
    "plt.ylabel('No.of Vietnamese Restaurants', fontsize=15)\n",
    "#giving a bar plot\n",
    "vietnamese_rest_ny.groupby('Neighborhood')['ID'].count().nlargest(5).plot(kind='bar')\n",
    "#legend\n",
    "plt.legend()\n",
    "#displays the plot\n",
    "plt.show()"
   ]
  },
  {
   "cell_type": "markdown",
   "metadata": {},
   "source": [
    "We see that Chinatown has the largest number of Vietnamese restaurants."
   ]
  },
  {
   "cell_type": "code",
   "execution_count": null,
   "metadata": {},
   "outputs": [],
   "source": [
    "vietnamese_rest_ny[vietnamese_rest_ny['Neighborhood']=='Chinatown']"
   ]
  },
  {
   "cell_type": "markdown",
   "metadata": {},
   "source": [
    "So Chinatown in Manhattan has the highest number of Vietnamese Restaurants with a total count of 3."
   ]
  },
  {
   "cell_type": "markdown",
   "metadata": {},
   "source": [
    "Now we will get the ranking of each restaurant for further analysis."
   ]
  },
  {
   "cell_type": "code",
   "execution_count": null,
   "metadata": {},
   "outputs": [],
   "source": [
    "# prepare neighborhood list that contains Vietnamese restaurants\n",
    "column_names=['Borough', 'Neighborhood', 'ID','Name','Likes','Rating','Tips']\n",
    "vietnamese_rest_stats_ny=pd.DataFrame(columns=column_names)\n",
    "count=1\n",
    "\n",
    "\n",
    "for row in vietnamese_rest_ny.values.tolist():\n",
    "    Borough,Neighborhood,ID,Name=row\n",
    "    try:\n",
    "        venue_details=get_venue_details(ID)\n",
    "        print(venue_details)\n",
    "        id,name,likes,rating,tips=venue_details.values.tolist()[0]\n",
    "    except IndexError:\n",
    "        print('No data available for id=',ID)\n",
    "        # we will assign 0 value for these restaurants as they may have been \n",
    "        #recently opened or details does not exist in Foursquare Database\n",
    "        id,name,likes,rating,tips=[0]*5\n",
    "    print('(',count,'/',len(vietnamese_rest_ny),')','processed')\n",
    "    vietnamese_rest_stats_ny = vietnamese_rest_stats_ny.append({'Borough': Borough,\n",
    "                                                'Neighborhood': Neighborhood, \n",
    "                                                'ID': id,\n",
    "                                                'Name' : name,\n",
    "                                                'Likes' : likes,\n",
    "                                                'Rating' : rating,\n",
    "                                                'Tips' : tips\n",
    "                                               }, ignore_index=True)\n",
    "    count+=1"
   ]
  },
  {
   "cell_type": "code",
   "execution_count": null,
   "metadata": {},
   "outputs": [],
   "source": [
    "vietnamese_rest_stats_ny.head()"
   ]
  },
  {
   "cell_type": "code",
   "execution_count": null,
   "metadata": {},
   "outputs": [],
   "source": [
    "vietnamese_rest_stats_ny.shape"
   ]
  },
  {
   "cell_type": "markdown",
   "metadata": {},
   "source": [
    "So we got data for all Vietnamese restaurants. Now let's save this data to a csv sheet. In case we by mistake modify it. As the number of calls to get details for venue are premium call and have limit of 500 per day, we will refer to saved data sheet csv if required."
   ]
  },
  {
   "cell_type": "code",
   "execution_count": null,
   "metadata": {},
   "outputs": [],
   "source": [
    "vietnamese_rest_stats_ny.to_csv('vietnamese_rest_stats_ny.csv', index=False)"
   ]
  },
  {
   "cell_type": "code",
   "execution_count": null,
   "metadata": {},
   "outputs": [],
   "source": [
    "vietnamese_rest_stats_ny_csv=pd.read_csv('vietnamese_rest_stats_ny.csv')"
   ]
  },
  {
   "cell_type": "code",
   "execution_count": null,
   "metadata": {},
   "outputs": [],
   "source": [
    "vietnamese_rest_stats_ny_csv.shape"
   ]
  },
  {
   "cell_type": "code",
   "execution_count": null,
   "metadata": {},
   "outputs": [],
   "source": [
    "vietnamese_rest_stats_ny_csv.head()"
   ]
  },
  {
   "cell_type": "code",
   "execution_count": null,
   "metadata": {},
   "outputs": [],
   "source": [
    "vietnamese_rest_stats_ny.info()"
   ]
  },
  {
   "cell_type": "markdown",
   "metadata": {},
   "source": [
    "We see that values like Likes, Tips are strig values. We would need to convert them into float for further analysis."
   ]
  },
  {
   "cell_type": "code",
   "execution_count": null,
   "metadata": {},
   "outputs": [],
   "source": [
    "vietnamese_rest_stats_ny['Likes']=vietnamese_rest_stats_ny['Likes'].astype('float64')"
   ]
  },
  {
   "cell_type": "code",
   "execution_count": null,
   "metadata": {},
   "outputs": [],
   "source": [
    "vietnamese_rest_stats_ny['Tips']=vietnamese_rest_stats_ny['Tips'].astype('float64')"
   ]
  },
  {
   "cell_type": "code",
   "execution_count": null,
   "metadata": {},
   "outputs": [],
   "source": [
    "vietnamese_rest_stats_ny.info()"
   ]
  },
  {
   "cell_type": "code",
   "execution_count": null,
   "metadata": {},
   "outputs": [],
   "source": [
    "#Restaurant with maximum Likes\n",
    "vietnamese_rest_stats_ny.iloc[vietnamese_rest_stats_ny['Likes'].idxmax()]"
   ]
  },
  {
   "cell_type": "code",
   "execution_count": null,
   "metadata": {},
   "outputs": [],
   "source": [
    "# Restaurant with maximum Tips\n",
    "vietnamese_rest_stats_ny.iloc[vietnamese_rest_stats_ny['Tips'].idxmax()]"
   ]
  },
  {
   "cell_type": "markdown",
   "metadata": {},
   "source": [
    "Now let's visualize neighborhood with maximum average rating of restaurants."
   ]
  },
  {
   "cell_type": "code",
   "execution_count": null,
   "metadata": {},
   "outputs": [],
   "source": [
    "ny_neighborhood_stats=vietnamese_rest_stats_ny.groupby('Neighborhood',as_index=False).mean()[['Neighborhood','Rating']]\n",
    "ny_neighborhood_stats.columns=['Neighborhood','Average Rating']"
   ]
  },
  {
   "cell_type": "code",
   "execution_count": null,
   "metadata": {},
   "outputs": [],
   "source": [
    "#Top neighborhoods with top average rating for Vietnamese restaurants\n",
    "ny_neighborhood_stats.sort_values(['Average Rating'],ascending=False).head(10)"
   ]
  },
  {
   "cell_type": "code",
   "execution_count": null,
   "metadata": {},
   "outputs": [],
   "source": [
    "ny_borough_stats=vietnamese_rest_stats_ny.groupby('Borough',as_index=False).mean()[['Borough','Rating']]\n",
    "ny_borough_stats.columns=['Borough','Average Rating']"
   ]
  },
  {
   "cell_type": "code",
   "execution_count": null,
   "metadata": {},
   "outputs": [],
   "source": [
    "#Top boroughs with top average rating for Vietnamese restaurants\n",
    "ny_borough_stats.sort_values(['Average Rating'],ascending=False).head(10)"
   ]
  },
  {
   "cell_type": "code",
   "execution_count": null,
   "metadata": {},
   "outputs": [],
   "source": [
    "plt.figure(figsize=(9,5), dpi = 100)\n",
    "# title\n",
    "plt.title('Average rating of Vietnamese Restaurants for each Borough')\n",
    "#On x-axis\n",
    "plt.xlabel('Borough', fontsize = 15)\n",
    "#On y-axis\n",
    "plt.ylabel('Average Rating', fontsize=15)\n",
    "#giving a bar plot\n",
    "vietnamese_rest_stats_ny.groupby('Borough').mean()['Rating'].plot(kind='bar')\n",
    "#legend\n",
    "plt.legend()\n",
    "#displays the plot\n",
    "plt.show()"
   ]
  },
  {
   "cell_type": "markdown",
   "metadata": {},
   "source": [
    "We will consider all the neighborhoods with average rating greater or equal 8.0 to visualize on map."
   ]
  },
  {
   "cell_type": "code",
   "execution_count": null,
   "metadata": {},
   "outputs": [],
   "source": [
    "ny_neighborhood_stats=ny_neighborhood_stats[ny_neighborhood_stats['Average Rating']>=8.0]"
   ]
  },
  {
   "cell_type": "code",
   "execution_count": null,
   "metadata": {},
   "outputs": [],
   "source": [
    "ny_neighborhood_stats"
   ]
  },
  {
   "cell_type": "markdown",
   "metadata": {},
   "source": [
    "We will join this dataset to original New York City data to get lonitude and latitude."
   ]
  },
  {
   "cell_type": "code",
   "execution_count": null,
   "metadata": {},
   "outputs": [],
   "source": [
    "ny_neighborhood_stats=pd.merge(ny_neighborhood_stats,ny_data, on='Neighborhood')"
   ]
  },
  {
   "cell_type": "code",
   "execution_count": null,
   "metadata": {},
   "outputs": [],
   "source": [
    "ny_neighborhood_stats=ny_neighborhood_stats[['Borough','Neighborhood','Latitude','Longitude','Average Rating']]"
   ]
  },
  {
   "cell_type": "code",
   "execution_count": null,
   "metadata": {},
   "outputs": [],
   "source": [
    "ny_neighborhood_stats"
   ]
  },
  {
   "cell_type": "code",
   "execution_count": null,
   "metadata": {},
   "outputs": [],
   "source": [
    "# create map and display it\n",
    "ny_map = folium.Map(location=geo_location('New York'), zoom_start=12)"
   ]
  },
  {
   "cell_type": "code",
   "execution_count": null,
   "metadata": {},
   "outputs": [],
   "source": [
    "# instantiate a feature group for the incidents in the dataframe\n",
    "incidents = folium.map.FeatureGroup()\n",
    "\n",
    "# loop through the 100 crimes and add each to the incidents feature group\n",
    "for lat, lng, in ny_neighborhood_stats[['Latitude','Longitude']].values:\n",
    "    incidents.add_child(\n",
    "        folium.CircleMarker(\n",
    "            [lat, lng],\n",
    "            radius=10, # define how big you want the circle markers to be\n",
    "            color='yellow',\n",
    "            fill=True,\n",
    "            fill_color='blue',\n",
    "            fill_opacity=0.6\n",
    "        )\n",
    "    )"
   ]
  },
  {
   "cell_type": "code",
   "execution_count": null,
   "metadata": {},
   "outputs": [],
   "source": [
    "# add a new field to dataframe for labelling purpose\n",
    "ny_neighborhood_stats['Label']=ny_neighborhood_stats['Neighborhood']+', '+ny_neighborhood_stats['Borough']+'('+ny_neighborhood_stats['Average Rating'].map(str)+')'"
   ]
  },
  {
   "cell_type": "code",
   "execution_count": null,
   "metadata": {
    "scrolled": true
   },
   "outputs": [],
   "source": [
    "# add pop-up text to each marker on the map\n",
    "for lat, lng, label in ny_neighborhood_stats[['Latitude','Longitude','Label']].values:\n",
    "    folium.Marker([lat, lng], popup=label).add_to(ny_map)        \n",
    "# add incidents to map\n",
    "ny_map.add_child(incidents)"
   ]
  },
  {
   "cell_type": "code",
   "execution_count": null,
   "metadata": {},
   "outputs": [],
   "source": []
  }
 ],
 "metadata": {
  "kernelspec": {
   "display_name": "Python 3",
   "language": "python",
   "name": "python3"
  },
  "language_info": {
   "codemirror_mode": {
    "name": "ipython",
    "version": 3
   },
   "file_extension": ".py",
   "mimetype": "text/x-python",
   "name": "python",
   "nbconvert_exporter": "python",
   "pygments_lexer": "ipython3",
   "version": "3.8.2"
  }
 },
 "nbformat": 4,
 "nbformat_minor": 4
}
