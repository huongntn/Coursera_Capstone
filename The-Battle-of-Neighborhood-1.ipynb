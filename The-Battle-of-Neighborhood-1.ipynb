{
 "cells": [
  {
   "cell_type": "markdown",
   "metadata": {},
   "source": [
    "# Capstone Project - The Battle of Neighborhood"
   ]
  },
  {
   "cell_type": "markdown",
   "metadata": {},
   "source": [
    "## 1. Introduction"
   ]
  },
  {
   "cell_type": "markdown",
   "metadata": {},
   "source": [
    "New York City’s demographics show that it is a large and ethnically diverse metropolis. It is the largest city in the United States with a long history of international immigration. New York City was home to nearly 3.1 million immigrants in 2018, accounting for approximately 37% of the population of the city.\n",
    "\n",
    "With it’s diverse culture, comes diverse food items. There are many restaurants in New York City, each belonging to different categories like Chinese, Indian, French etc.  \n",
    "\n",
    "So as part of this project, we will list and visualize all major parts of New York City that has Vietnamese restaurants."
   ]
  },
  {
   "cell_type": "markdown",
   "metadata": {},
   "source": [
    "## 2. Data"
   ]
  },
  {
   "cell_type": "markdown",
   "metadata": {},
   "source": [
    "For this project we need following data:  \n",
    "\n",
    ". **New York City's data that contains list Boroughs, Neighborhoods along with their latitude and longitude**: This data set contains the required information. And we will use this data set to explore various neighborhoods of New York city. (Data source : https://cocl.us/new_york_dataset)  \n",
    "\n",
    ". **Vietnamese restaurants in each neighborhood of New York City**: By using API we will get all the venues in each neighborhood. We can filter these venues to get only Vietnamese restaurants. (Data source: Foursquare API)  \n",
    "\n",
    ". **GeoSpace data**: By using this geo space data we will get the New York Borough boundaries that will help us visualize choropleth map. (Data source: https://data.cityofnewyork.us/City-Government/Borough-Boundaries/tqmj-j8zm)"
   ]
  },
  {
   "cell_type": "code",
   "execution_count": null,
   "metadata": {},
   "outputs": [],
   "source": []
  }
 ],
 "metadata": {
  "kernelspec": {
   "display_name": "Python 3",
   "language": "python",
   "name": "python3"
  },
  "language_info": {
   "codemirror_mode": {
    "name": "ipython",
    "version": 3
   },
   "file_extension": ".py",
   "mimetype": "text/x-python",
   "name": "python",
   "nbconvert_exporter": "python",
   "pygments_lexer": "ipython3",
   "version": "3.8.2"
  }
 },
 "nbformat": 4,
 "nbformat_minor": 4
}
